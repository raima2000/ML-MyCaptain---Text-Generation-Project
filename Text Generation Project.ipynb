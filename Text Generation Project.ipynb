{
 "cells": [
  {
   "cell_type": "code",
   "execution_count": 1,
   "id": "badca5e8",
   "metadata": {},
   "outputs": [
    {
     "name": "stderr",
     "output_type": "stream",
     "text": [
      "[nltk_data] Downloading package stopwords to\n",
      "[nltk_data]     C:\\Users\\Raima\\AppData\\Roaming\\nltk_data...\n",
      "[nltk_data]   Package stopwords is already up-to-date!\n"
     ]
    }
   ],
   "source": [
    "import numpy\n",
    "import sys\n",
    "import nltk\n",
    "nltk.download('stopwords')\n",
    "from nltk.tokenize import RegexpTokenizer\n",
    "from nltk.corpus import stopwords\n",
    "from keras.models import Sequential\n",
    "from keras.layers import Dense , Dropout , LSTM\n",
    "from keras.utils import np_utils\n",
    "from keras.callbacks import ModelCheckpoint"
   ]
  },
  {
   "cell_type": "code",
   "execution_count": 2,
   "id": "d423e78d",
   "metadata": {},
   "outputs": [],
   "source": [
    "# load data\n",
    "file = open(\"Frankenstein-2.txt\").read()"
   ]
  },
  {
   "cell_type": "code",
   "execution_count": 3,
   "id": "a537da09",
   "metadata": {},
   "outputs": [],
   "source": [
    "# tokenization - process of breaking a stream of text up into words , phrases , symbols or other meaningful elements \n",
    "# standarization\n",
    "def tokenize_words(input):\n",
    "    input = input.lower()\n",
    "    # instantiating the tokenizer\n",
    "    tokenizer = RegexpTokenizer(r'\\w+')\n",
    "    # tokenizing the text into tokens\n",
    "    tokens = tokenizer.tokenize(input)\n",
    "    # filtering the stopwords using lambda\n",
    "    filtered = filter(lambda token: token not in stopwords.words('english'), tokens)\n",
    "    return \"\".join(filtered)\n",
    "# preprocessing the input  data\n",
    "processed_inputs = tokenize_words(file)"
   ]
  },
  {
   "cell_type": "code",
   "execution_count": 4,
   "id": "23d07816",
   "metadata": {},
   "outputs": [],
   "source": [
    "# chars to numbers\n",
    "chars = sorted(list(set(processed_inputs)))\n",
    "char_to_num = dict((c,i) for i , c in enumerate(chars))"
   ]
  },
  {
   "cell_type": "code",
   "execution_count": 5,
   "id": "f7f3c62f",
   "metadata": {},
   "outputs": [
    {
     "name": "stdout",
     "output_type": "stream",
     "text": [
      " Total number of characters: 232972\n",
      "Toatl vocab: 37\n"
     ]
    }
   ],
   "source": [
    "#check if words to chars or chars to num(?!) has worked?\n",
    "input_len = len(processed_inputs)\n",
    "vocab_len = len(chars)\n",
    "print (\" Total number of characters:\" , input_len)\n",
    "print(\"Toatl vocab:\" , vocab_len)"
   ]
  },
  {
   "cell_type": "code",
   "execution_count": 6,
   "id": "45f2b290",
   "metadata": {},
   "outputs": [],
   "source": [
    "# seq length\n",
    "seq_length = 100\n",
    "x_data = []\n",
    "y_data = []"
   ]
  },
  {
   "cell_type": "code",
   "execution_count": 8,
   "id": "807e4382",
   "metadata": {},
   "outputs": [
    {
     "name": "stdout",
     "output_type": "stream",
     "text": [
      "Total Patterns: 465744\n"
     ]
    }
   ],
   "source": [
    "# loop through the sequence\n",
    "for i in range (0 , input_len - seq_length , 1):\n",
    "    in_seq = processed_inputs[i:i + seq_length]\n",
    "    out_seq = processed_inputs[i + seq_length]\n",
    "    x_data.append([char_to_num[char] for char in in_seq])\n",
    "    y_data.append(char_to_num[out_seq])\n",
    "    \n",
    "n_patterns = len(x_data)\n",
    "print(\"Total Patterns:\" , n_patterns)"
   ]
  },
  {
   "cell_type": "code",
   "execution_count": 9,
   "id": "15846615",
   "metadata": {},
   "outputs": [],
   "source": [
    "# conert input sequence into np array and so on\n",
    "X = numpy.reshape(x_data , (n_patterns , seq_length , 1))\n",
    "X = X/float(vocab_len)"
   ]
  },
  {
   "cell_type": "code",
   "execution_count": 10,
   "id": "042ce6f1",
   "metadata": {},
   "outputs": [],
   "source": [
    "# one hot encoding\n",
    "y=np_utils.to_categorical(y_data)"
   ]
  },
  {
   "cell_type": "code",
   "execution_count": 12,
   "id": "87097f53",
   "metadata": {},
   "outputs": [],
   "source": [
    "# creating the model\n",
    "model = Sequential()\n",
    "model.add(LSTM(256, input_shape = (X.shape[1], X.shape[2]), return_sequences = True))\n",
    "model.add(Dropout(0.2))\n",
    "model.add(LSTM(256 , return_sequences =True))\n",
    "model.add(Dropout(0.2))\n",
    "model.add(LSTM(128))\n",
    "model.add(Dropout(0.2))\n",
    "model.add(Dense(y.shape[1] , activation ='softmax'))"
   ]
  },
  {
   "cell_type": "code",
   "execution_count": 13,
   "id": "8bc246f2",
   "metadata": {},
   "outputs": [],
   "source": [
    "# compile the model\n",
    "model.compile(loss='categorical_crossentropy', optimizer = 'adam')"
   ]
  },
  {
   "cell_type": "code",
   "execution_count": 14,
   "id": "5d8ad476",
   "metadata": {},
   "outputs": [],
   "source": [
    "# saving weights\n",
    "filepath =\"model_weights_saved.hdf5\"\n",
    "checkpoint = ModelCheckpoint(filepath , monitor = 'loss' , verbose =1 , save_best_only = True , mode = 'min')\n",
    "desired_callbacks = [checkpoint]"
   ]
  },
  {
   "cell_type": "code",
   "execution_count": 15,
   "id": "0d81ba3d",
   "metadata": {},
   "outputs": [
    {
     "name": "stdout",
     "output_type": "stream",
     "text": [
      "Epoch 1/4\n",
      "1820/1820 [==============================] - 7222s 4s/step - loss: 2.9195\n",
      "\n",
      "Epoch 00001: loss improved from inf to 2.91948, saving model to model_weights_saved.hdf5\n",
      "Epoch 2/4\n",
      "1820/1820 [==============================] - 7795s 4s/step - loss: 2.8838\n",
      "\n",
      "Epoch 00002: loss improved from 2.91948 to 2.88375, saving model to model_weights_saved.hdf5\n",
      "Epoch 3/4\n",
      "1820/1820 [==============================] - 8680s 5s/step - loss: 2.7923\n",
      "\n",
      "Epoch 00003: loss improved from 2.88375 to 2.79231, saving model to model_weights_saved.hdf5\n",
      "Epoch 4/4\n",
      "1820/1820 [==============================] - 7909s 4s/step - loss: 2.6533\n",
      "\n",
      "Epoch 00004: loss improved from 2.79231 to 2.65333, saving model to model_weights_saved.hdf5\n"
     ]
    },
    {
     "data": {
      "text/plain": [
       "<keras.callbacks.History at 0x22d354f4370>"
      ]
     },
     "execution_count": 15,
     "metadata": {},
     "output_type": "execute_result"
    }
   ],
   "source": [
    "model.fit(X, y , epochs =4 , batch_size = 256 , callbacks = desired_callbacks)"
   ]
  },
  {
   "cell_type": "code",
   "execution_count": 16,
   "id": "2ad35982",
   "metadata": {},
   "outputs": [],
   "source": [
    "# recompile model with the saved weights\n",
    "filename = \"model_weights_saved.hdf5\"\n",
    "model.load_weights(filename)\n",
    "model.compile(loss = 'categorical_crossentropy',optimizer = 'adam')"
   ]
  },
  {
   "cell_type": "code",
   "execution_count": 17,
   "id": "f5c12dea",
   "metadata": {},
   "outputs": [],
   "source": [
    "#output of the model back into characters\n",
    "num_to_char = dict((i,c) for i , c in enumerate(chars))\n"
   ]
  },
  {
   "cell_type": "code",
   "execution_count": 26,
   "id": "8f2c289f",
   "metadata": {},
   "outputs": [
    {
     "name": "stdout",
     "output_type": "stream",
     "text": [
      "Random Seed:\n",
      "\" edexcessivesorrowpreventsimprovementenjoymentevendischargedailyusefulnesswithoutmanfitsocietyadvicea \"\n"
     ]
    }
   ],
   "source": [
    "# random seed to help generate\n",
    "start = numpy.random.randint(0, len(x_data) - 1)\n",
    "pattern = x_data[start]\n",
    "print(\"Random Seed:\")\n",
    "print(\"\\\"\", ''.join([num_to_char[value] for value in pattern]), \"\\\"\")"
   ]
  },
  {
   "cell_type": "code",
   "execution_count": 28,
   "id": "68019126",
   "metadata": {},
   "outputs": [
    {
     "name": "stdout",
     "output_type": "stream",
     "text": [
      "tedeeatedeeatedeeatedeeatedeeatedeeatedeeatedeeatedeeatedeeatedeeatedeeatedeeatedeeatedeeatedeeatedeeatedeeatedeeatedeeatedeeatedeeatedeeatedeeatedeeatedeeatedeeatedeeatedeeatedeeatedeeatedeeatedeeatedeeatedeeatedeeatedeeatedeeatedeeatedeeatedeeatedeeatedeeatedeeatedeeatedeeatedeeatedeeatedeeatedeeatedeeatedeeatedeeatedeeatedeeatedeeatedeeatedeeatedeeatedeeatedeeatedeeatedeeatedeeatedeeatedeeatedeeatedeeatedeeatedeeatedeeatedeeatedeeatedeeatedeeatedeeatedeeatedeeatedeeatedeeatedeeatedeeatedeeatedeeatedeeatedeeatedeeatedeeatedeeatedeeatedeeatedeeatedeeatedeeatedeeatedeeatedeeatedeeatedeeatedeeatedeeatedeeatedeeatedeeatedeeatedeeatedeeatedeeatedeeatedeeatedeeatedeeatedeeatedeeatedeeatedeeatedeeatedeeatedeeatedeeatedeeatedeeatedeeatedeeatedeeatedeeatedeeatedeeatedeeatedeeatedeeatedeeatedeeatedeeatedeeatedeeatedeeatedeeatedeeatedeeatedeeatedeeatedeeatedeeatedeeatedeeatedeeatedeeatedeeatedeeatedeeatedeeatedeeatedeeatedeeatedeeatedeeatedeeatedeeatedeeatedeeatedeeatedeeatedeeatedeeatedeeatede"
     ]
    }
   ],
   "source": [
    "for i in range(1000):\n",
    "    x = numpy.reshape(pattern, (1, len(pattern), 1))\n",
    "    x = x / float(vocab_len)\n",
    "    prediction = model.predict(x, verbose=0)\n",
    "    index = numpy.argmax(prediction)\n",
    "    result = num_to_char[index]\n",
    "\n",
    "    sys.stdout.write(result)\n",
    "\n",
    "    pattern.append(index)\n",
    "    pattern = pattern[1:len(pattern)]"
   ]
  },
  {
   "cell_type": "code",
   "execution_count": null,
   "id": "0d31a7b8",
   "metadata": {},
   "outputs": [],
   "source": []
  }
 ],
 "metadata": {
  "kernelspec": {
   "display_name": "Python 3 (ipykernel)",
   "language": "python",
   "name": "python3"
  },
  "language_info": {
   "codemirror_mode": {
    "name": "ipython",
    "version": 3
   },
   "file_extension": ".py",
   "mimetype": "text/x-python",
   "name": "python",
   "nbconvert_exporter": "python",
   "pygments_lexer": "ipython3",
   "version": "3.9.6"
  }
 },
 "nbformat": 4,
 "nbformat_minor": 5
}
